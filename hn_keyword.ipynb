{
 "cells": [
  {
   "cell_type": "markdown",
   "metadata": {},
   "source": [
    "# Hacker News Trends\n",
    "---\n",
    "\n",
    "This tool will allow users to search for a specific keyword on Hacker News, a social news site that focuses on computer science and entrepreneurship, and see how popular that keyword has been over a period of time.\n",
    "\n",
    "I'm planning to expand this to other social media sites like Twitter or Reddit and create an interactive web app in the future. Hacker News is a good starting point because it has a more manageable amount of data and a simpler API to work with."
   ]
  },
  {
   "cell_type": "markdown",
   "metadata": {},
   "source": [
    "---\n",
    "# Showroom"
   ]
  },
  {
   "cell_type": "code",
   "execution_count": null,
   "metadata": {
    "scrolled": false
   },
   "outputs": [],
   "source": [
    "hn_keyword()"
   ]
  },
  {
   "cell_type": "markdown",
   "metadata": {},
   "source": [
    "<div>\n",
    "    <br>\n",
    "    <br>\n",
    "    <br>\n",
    "    <br>\n",
    "    <br>\n",
    "    <br>\n",
    "    <br>\n",
    "    <br>\n",
    "    <br>\n",
    "    <br>\n",
    "    <br>\n",
    "    <br>\n",
    "    <br>\n",
    "    <br>\n",
    "    <br>\n",
    "    <br>\n",
    "    <br>\n",
    "    <br>\n",
    "    <br>\n",
    "    <br>\n",
    "    <br>\n",
    "    <br>\n",
    "    <br>\n",
    "    <br>\n",
    "    <br>\n",
    "    <br>\n",
    "    <br>\n",
    "    <br>\n",
    "    <br>\n",
    "    <br>\n",
    "    <br>\n",
    "    <br>\n",
    "    <br>\n",
    "    <br>\n",
    "    <br>\n",
    "</div>"
   ]
  },
  {
   "cell_type": "markdown",
   "metadata": {},
   "source": [
    "---\n",
    "# Here's the code:"
   ]
  },
  {
   "cell_type": "code",
   "execution_count": 2,
   "metadata": {},
   "outputs": [],
   "source": [
    "import requests\n",
    "import pandas as pd\n",
    "import json\n",
    "import datetime as dt\n",
    "import numpy as np\n",
    "import matplotlib.pyplot as plt\n",
    "import matplotlib.dates as md\n",
    "\n",
    "%matplotlib inline\n",
    "%config InlineBackend.figure_format = 'retina'\n",
    "\n",
    "def hn_keyword():\n",
    "    keyword = input('What trend do you want to see? ')\n",
    "    \n",
    "    # Obtain data\n",
    "    response = requests.get(f'http://hn.algolia.com/api/v1/search?query={keyword}&tags=story')\n",
    "    data = response.json()\n",
    "    num_hits = data['nbHits']\n",
    "    \n",
    "    if data['nbHits'] == 0:\n",
    "        print(f\"Sorry, there are no stories about '{keyword}' on Hacker News. Try again.\")\n",
    "        return\n",
    "    \n",
    "    print(f\"There are {num_hits} stories posted on Hacker News for '{keyword}'. \\n\")\n",
    "    \n",
    "    response = requests.get(f'http://hn.algolia.com/api/v1/search?query={keyword}&tags=story&hitsPerPage={num_hits}')\n",
    "    data = response.json()\n",
    "    \n",
    "    most_points = 0\n",
    "    story_title = None\n",
    "    story_url = None\n",
    "    for hit in data['hits']:\n",
    "        if hit['points'] >= most_points:\n",
    "            most_points = hit['points']\n",
    "            story_title = hit['title']\n",
    "            story_url = hit['url']\n",
    "\n",
    "    print(f\"The most popular story is '{story_title}' with {most_points} points.\")\n",
    "    print(f\"You can read it here: {story_url}\")\n",
    "    \n",
    "    # Clean and sort data\n",
    "    \n",
    "    # Grab what we need (title and time)\n",
    "    title = []\n",
    "    unix_time = []\n",
    "\n",
    "    for d in data['hits']:\n",
    "        title.append(d['title'])\n",
    "        unix_time.append(d['created_at_i'])\n",
    "        \n",
    "    prep_data = {'title': title,\n",
    "          'unix_time': unix_time}\n",
    "\n",
    "    # Create the panda dataframe\n",
    "    df = pd.DataFrame(prep_data)\n",
    "    \n",
    "    # Unix to human time\n",
    "    df['date_time'] = pd.to_datetime(df['unix_time'],unit='s')\n",
    "    \n",
    "    # Sort by chronological order\n",
    "    df = df.sort_values(by=['unix_time'])\n",
    "    df = df.reset_index(drop=True)\n",
    "    \n",
    "    # Group by month\n",
    "    grouped_data = df.groupby([df['date_time'].dt.year.rename('year'), \n",
    "                               df['date_time'].dt.month.rename('month')]).count()\n",
    "    \n",
    "    # Add grouped year/month from index to dataframe\n",
    "    grouped_data.reset_index(inplace=True)\n",
    "    \n",
    "    # Combine year/month columns into usable data\n",
    "    grouped_data['date_clean'] = pd.to_datetime(grouped_data[['year','month']].assign(DAY=1))\n",
    "    grouped_data['pl_date'] = md.date2num(grouped_data['date_clean'])\n",
    "\n",
    "    # Visualizing trends\n",
    "    \n",
    "    # Graph prep\n",
    "    x = grouped_data['pl_date']\n",
    "    y = grouped_data['title']\n",
    "    \n",
    "    fig = plt.figure(figsize=[15,10])\n",
    "    ax = fig.add_subplot(1,1,1)\n",
    "\n",
    "    ax.plot(x,y, label='Stories', marker='o', color='orange')\n",
    "\n",
    "    # x-axis timeline formatting\n",
    "    plt.gca().xaxis.set_major_locator(md.MonthLocator(interval=4)) \n",
    "    plt.gca().xaxis.set_major_formatter(md.DateFormatter(\"%d-%b-%Y\"))\n",
    "    plt.gcf().autofmt_xdate()\n",
    "\n",
    "\n",
    "    # Labels\n",
    "    ax.set_title(f\"Trend of '{keyword}' on Hacker News\")\n",
    "    ax.set_xlabel('Timeline')\n",
    "    ax.set_ylabel('Number of stories')\n",
    "\n",
    "    ax.legend(loc='best')\n",
    "\n",
    "    # Labeling markers\n",
    "    for a, b in zip(x,y):\n",
    "        ax.annotate(b, xy=(a,b), xytext=(0,5), textcoords='offset points')"
   ]
  },
  {
   "cell_type": "markdown",
   "metadata": {},
   "source": [
    "---\n",
    "# Behind the Scenes\n",
    "\n",
    "Running through the process step-by-step with notes and debugging. Stop here if you don't want to see messy, spaghetti code."
   ]
  },
  {
   "cell_type": "markdown",
   "metadata": {},
   "source": [
    "<div class=\"alert alert-block alert-info\"> <b>To-Dos</b> </div>\n",
    "\n",
    "1. Connect to API via requests\n",
    "2. Obtain data\n",
    "3. Save data to pandas DataFrame\n",
    "4. Clean data\n",
    "5. Group data by time (months?)\n",
    "6. Graph out results"
   ]
  },
  {
   "cell_type": "markdown",
   "metadata": {},
   "source": [
    "<div class=\"alert alert-block alert-warning\">\n",
    "<b>1st lesson learned:</b> Plan, plan, plan before writing <em>any<em> code.\n",
    "</div>"
   ]
  },
  {
   "cell_type": "markdown",
   "metadata": {},
   "source": [
    "### Import Modules"
   ]
  },
  {
   "cell_type": "code",
   "execution_count": 4,
   "metadata": {},
   "outputs": [],
   "source": [
    "import requests # to connect to API and grab data\n",
    "import pandas as pd # to organize and clean data\n",
    "import json\n",
    "import datetime as dt # to convert Unix time to human readable time\n",
    "import numpy as np\n",
    "import matplotlib.pyplot as plt # for graphing stuff\n",
    "import matplotlib.dates as md # for time conversion stuff"
   ]
  },
  {
   "cell_type": "code",
   "execution_count": 5,
   "metadata": {},
   "outputs": [],
   "source": [
    "%matplotlib inline\n",
    "%config InlineBackend.figure_format = 'retina'"
   ]
  },
  {
   "cell_type": "markdown",
   "metadata": {},
   "source": [
    "### Connect to API, obtain data"
   ]
  },
  {
   "cell_type": "markdown",
   "metadata": {},
   "source": [
    "<div class=\"alert alert-block alert-warning\">\n",
    "<b>2nd lesson learned:</b> Pick the right API (or the right data source).\n",
    "    \n",
    "It's unreasonable to obtain ALL the data. Grab only what you need.\n",
    "</div>"
   ]
  },
  {
   "cell_type": "code",
   "execution_count": 6,
   "metadata": {},
   "outputs": [
    {
     "name": "stdout",
     "output_type": "stream",
     "text": [
      "25261624\n"
     ]
    }
   ],
   "source": [
    "# Using Hacker New's official API\n",
    "# Grabbing latest item\n",
    "latest_id = requests.get('https://hacker-news.firebaseio.com/v0/maxitem.json?print=pretty')\n",
    "print(latest_id.json())"
   ]
  },
  {
   "cell_type": "code",
   "execution_count": null,
   "metadata": {},
   "outputs": [],
   "source": [
    "# keyword = input('What trend do you want to see? ')"
   ]
  },
  {
   "cell_type": "code",
   "execution_count": 7,
   "metadata": {},
   "outputs": [
    {
     "name": "stdout",
     "output_type": "stream",
     "text": [
      "There are 6843 stories posted on Hacker News.\n"
     ]
    }
   ],
   "source": [
    "keyword = 'netflix'\n",
    "\n",
    "# Initial search to get number of hits\n",
    "# This will help manage search results and load times\n",
    "\n",
    "response = requests.get(f'http://hn.algolia.com/api/v1/search?query={keyword}&tags=story')\n",
    "data = response.json()\n",
    "num_hits = data['nbHits']\n",
    "print(f'There are {num_hits} stories posted on Hacker News.')"
   ]
  },
  {
   "cell_type": "code",
   "execution_count": 51,
   "metadata": {},
   "outputs": [],
   "source": [
    "# Final search to get all the hits\n",
    "\n",
    "response = requests.get(f'http://hn.algolia.com/api/v1/search?query={keyword}&tags=story&hitsPerPage={num_hits}')\n",
    "data = response.json()\n",
    "# data"
   ]
  },
  {
   "cell_type": "code",
   "execution_count": 58,
   "metadata": {},
   "outputs": [
    {
     "name": "stdout",
     "output_type": "stream",
     "text": [
      "The most popular story is 'Netflix Is Now Available Around the World' with 1015 points.\n",
      "You can read it here: https://media.netflix.com/en/press-releases/netflix-is-now-available-around-the-world\n"
     ]
    }
   ],
   "source": [
    "most_points = 0\n",
    "story_title = None\n",
    "story_url = None\n",
    "for hit in data['hits']:\n",
    "    if hit['points'] >= most_points:\n",
    "        most_points = hit['points']\n",
    "        story_title = hit['title']\n",
    "        story_url = hit['url']\n",
    "\n",
    "print(f\"The most popular story is '{story_title}' with {most_points} points.\")\n",
    "print(f\"You can read it here: {story_url}\")"
   ]
  },
  {
   "cell_type": "code",
   "execution_count": 55,
   "metadata": {},
   "outputs": [
    {
     "data": {
      "text/plain": [
       "{'created_at': '2016-01-06T18:09:34.000Z',\n",
       " 'title': 'Netflix Is Now Available Around the World',\n",
       " 'url': 'https://media.netflix.com/en/press-releases/netflix-is-now-available-around-the-world',\n",
       " 'author': 'devhxinc',\n",
       " 'points': 1015,\n",
       " 'story_text': None,\n",
       " 'comment_text': None,\n",
       " 'num_comments': 492,\n",
       " 'story_id': None,\n",
       " 'story_title': None,\n",
       " 'story_url': None,\n",
       " 'parent_id': None,\n",
       " 'created_at_i': 1452103774,\n",
       " 'relevancy_score': 6479,\n",
       " '_tags': ['story', 'author_devhxinc', 'story_10852261'],\n",
       " 'objectID': '10852261',\n",
       " '_highlightResult': {'title': {'value': '<em>Netflix</em> Is Now Available Around the World',\n",
       "   'matchLevel': 'full',\n",
       "   'fullyHighlighted': False,\n",
       "   'matchedWords': ['netflix']},\n",
       "  'url': {'value': 'https://media.<em>netflix</em>.com/en/press-releases/<em>netflix</em>-is-now-available-around-the-world',\n",
       "   'matchLevel': 'full',\n",
       "   'fullyHighlighted': False,\n",
       "   'matchedWords': ['netflix']},\n",
       "  'author': {'value': 'devhxinc', 'matchLevel': 'none', 'matchedWords': []}}}"
      ]
     },
     "execution_count": 55,
     "metadata": {},
     "output_type": "execute_result"
    }
   ],
   "source": [
    "data['hits'][0]"
   ]
  },
  {
   "cell_type": "code",
   "execution_count": 38,
   "metadata": {},
   "outputs": [],
   "source": [
    "# Data prep\n",
    "\n",
    "title = []\n",
    "unix_time = []\n",
    "\n",
    "for d in data['hits']:\n",
    "#     print(d['title'], d['created_at_i'])\n",
    "    title.append(d['title'])\n",
    "    unix_time.append(d['created_at_i'])\n",
    "\n",
    "# print(len(title))\n",
    "# print(len(unix_time))"
   ]
  },
  {
   "cell_type": "code",
   "execution_count": 39,
   "metadata": {},
   "outputs": [],
   "source": [
    "# Add to pandas DataFrame\n",
    "\n",
    "prep_data = {'title': title,\n",
    "          'unix_time': unix_time}\n",
    "\n",
    "df = pd.DataFrame(prep_data)"
   ]
  },
  {
   "cell_type": "code",
   "execution_count": 40,
   "metadata": {},
   "outputs": [
    {
     "name": "stdout",
     "output_type": "stream",
     "text": [
      "<class 'pandas.core.frame.DataFrame'>\n",
      "RangeIndex: 1000 entries, 0 to 999\n",
      "Data columns (total 2 columns):\n",
      " #   Column     Non-Null Count  Dtype \n",
      "---  ------     --------------  ----- \n",
      " 0   title      1000 non-null   object\n",
      " 1   unix_time  1000 non-null   int64 \n",
      "dtypes: int64(1), object(1)\n",
      "memory usage: 15.8+ KB\n"
     ]
    },
    {
     "data": {
      "text/html": [
       "<div>\n",
       "<style scoped>\n",
       "    .dataframe tbody tr th:only-of-type {\n",
       "        vertical-align: middle;\n",
       "    }\n",
       "\n",
       "    .dataframe tbody tr th {\n",
       "        vertical-align: top;\n",
       "    }\n",
       "\n",
       "    .dataframe thead th {\n",
       "        text-align: right;\n",
       "    }\n",
       "</style>\n",
       "<table border=\"1\" class=\"dataframe\">\n",
       "  <thead>\n",
       "    <tr style=\"text-align: right;\">\n",
       "      <th></th>\n",
       "      <th>title</th>\n",
       "      <th>unix_time</th>\n",
       "    </tr>\n",
       "  </thead>\n",
       "  <tbody>\n",
       "    <tr>\n",
       "      <th>0</th>\n",
       "      <td>Netflix Is Now Available Around the World</td>\n",
       "      <td>1452103774</td>\n",
       "    </tr>\n",
       "    <tr>\n",
       "      <th>1</th>\n",
       "      <td>Netflix to cut streaming quality in Europe for...</td>\n",
       "      <td>1584645484</td>\n",
       "    </tr>\n",
       "    <tr>\n",
       "      <th>2</th>\n",
       "      <td>Save Netflix</td>\n",
       "      <td>1459796006</td>\n",
       "    </tr>\n",
       "    <tr>\n",
       "      <th>3</th>\n",
       "      <td>Netflix Stole My VHS Cassette Photos for Its S...</td>\n",
       "      <td>1511832480</td>\n",
       "    </tr>\n",
       "    <tr>\n",
       "      <th>4</th>\n",
       "      <td>Kids in ‘Netflix Only’ Homes Saved from 230 Ho...</td>\n",
       "      <td>1513973755</td>\n",
       "    </tr>\n",
       "  </tbody>\n",
       "</table>\n",
       "</div>"
      ],
      "text/plain": [
       "                                               title   unix_time\n",
       "0          Netflix Is Now Available Around the World  1452103774\n",
       "1  Netflix to cut streaming quality in Europe for...  1584645484\n",
       "2                                       Save Netflix  1459796006\n",
       "3  Netflix Stole My VHS Cassette Photos for Its S...  1511832480\n",
       "4  Kids in ‘Netflix Only’ Homes Saved from 230 Ho...  1513973755"
      ]
     },
     "execution_count": 40,
     "metadata": {},
     "output_type": "execute_result"
    }
   ],
   "source": [
    "# Data check\n",
    "\n",
    "df.info()\n",
    "df.head()"
   ]
  },
  {
   "cell_type": "markdown",
   "metadata": {},
   "source": [
    "<div class=\"alert alert-block alert-danger\">\n",
    "<b>Only 1000 results?!</b>\n",
    "    Per the Algolia API documentation: \"If a query returns a huge number of results, the engine will approximate the hits count to avoid having to scan the full results set. This approximation has been put in place to protect other search and indexing operations.\"\n",
    "</div>"
   ]
  },
  {
   "cell_type": "markdown",
   "metadata": {},
   "source": [
    "<div class=\"alert alert-block alert-info\">\n",
    "<b>For the future?</b> Pagination so I can walk through each page of results and gather <strong>ALL</strong> the data, if wanted.\n",
    "</div>"
   ]
  },
  {
   "cell_type": "markdown",
   "metadata": {},
   "source": [
    "### Clean and Sort Data\n",
    "\n",
    "Clean data: from Unix time to human-readable time. Matplotlib also needs its own time unit."
   ]
  },
  {
   "cell_type": "markdown",
   "metadata": {},
   "source": [
    "<div class=\"alert alert-block alert-warning\">\n",
    "<b>3rd lesson learned:</b> Most of my time was spent here trying to wrangling and converting data.\n",
    "</div>"
   ]
  },
  {
   "cell_type": "code",
   "execution_count": 41,
   "metadata": {},
   "outputs": [
    {
     "data": {
      "text/html": [
       "<div>\n",
       "<style scoped>\n",
       "    .dataframe tbody tr th:only-of-type {\n",
       "        vertical-align: middle;\n",
       "    }\n",
       "\n",
       "    .dataframe tbody tr th {\n",
       "        vertical-align: top;\n",
       "    }\n",
       "\n",
       "    .dataframe thead th {\n",
       "        text-align: right;\n",
       "    }\n",
       "</style>\n",
       "<table border=\"1\" class=\"dataframe\">\n",
       "  <thead>\n",
       "    <tr style=\"text-align: right;\">\n",
       "      <th></th>\n",
       "      <th>title</th>\n",
       "      <th>unix_time</th>\n",
       "      <th>date_time</th>\n",
       "    </tr>\n",
       "  </thead>\n",
       "  <tbody>\n",
       "    <tr>\n",
       "      <th>0</th>\n",
       "      <td>Netflix Is Now Available Around the World</td>\n",
       "      <td>1452103774</td>\n",
       "      <td>2016-01-06 18:09:34</td>\n",
       "    </tr>\n",
       "    <tr>\n",
       "      <th>1</th>\n",
       "      <td>Netflix to cut streaming quality in Europe for...</td>\n",
       "      <td>1584645484</td>\n",
       "      <td>2020-03-19 19:18:04</td>\n",
       "    </tr>\n",
       "    <tr>\n",
       "      <th>2</th>\n",
       "      <td>Save Netflix</td>\n",
       "      <td>1459796006</td>\n",
       "      <td>2016-04-04 18:53:26</td>\n",
       "    </tr>\n",
       "    <tr>\n",
       "      <th>3</th>\n",
       "      <td>Netflix Stole My VHS Cassette Photos for Its S...</td>\n",
       "      <td>1511832480</td>\n",
       "      <td>2017-11-28 01:28:00</td>\n",
       "    </tr>\n",
       "    <tr>\n",
       "      <th>4</th>\n",
       "      <td>Kids in ‘Netflix Only’ Homes Saved from 230 Ho...</td>\n",
       "      <td>1513973755</td>\n",
       "      <td>2017-12-22 20:15:55</td>\n",
       "    </tr>\n",
       "  </tbody>\n",
       "</table>\n",
       "</div>"
      ],
      "text/plain": [
       "                                               title   unix_time  \\\n",
       "0          Netflix Is Now Available Around the World  1452103774   \n",
       "1  Netflix to cut streaming quality in Europe for...  1584645484   \n",
       "2                                       Save Netflix  1459796006   \n",
       "3  Netflix Stole My VHS Cassette Photos for Its S...  1511832480   \n",
       "4  Kids in ‘Netflix Only’ Homes Saved from 230 Ho...  1513973755   \n",
       "\n",
       "            date_time  \n",
       "0 2016-01-06 18:09:34  \n",
       "1 2020-03-19 19:18:04  \n",
       "2 2016-04-04 18:53:26  \n",
       "3 2017-11-28 01:28:00  \n",
       "4 2017-12-22 20:15:55  "
      ]
     },
     "execution_count": 41,
     "metadata": {},
     "output_type": "execute_result"
    }
   ],
   "source": [
    "df['date_time'] = pd.to_datetime(df['unix_time'],unit='s')\n",
    "df.head()"
   ]
  },
  {
   "cell_type": "markdown",
   "metadata": {},
   "source": [
    "Sort data chronologically and reset index"
   ]
  },
  {
   "cell_type": "code",
   "execution_count": 42,
   "metadata": {
    "scrolled": true
   },
   "outputs": [
    {
     "data": {
      "text/html": [
       "<div>\n",
       "<style scoped>\n",
       "    .dataframe tbody tr th:only-of-type {\n",
       "        vertical-align: middle;\n",
       "    }\n",
       "\n",
       "    .dataframe tbody tr th {\n",
       "        vertical-align: top;\n",
       "    }\n",
       "\n",
       "    .dataframe thead th {\n",
       "        text-align: right;\n",
       "    }\n",
       "</style>\n",
       "<table border=\"1\" class=\"dataframe\">\n",
       "  <thead>\n",
       "    <tr style=\"text-align: right;\">\n",
       "      <th></th>\n",
       "      <th>title</th>\n",
       "      <th>unix_time</th>\n",
       "      <th>date_time</th>\n",
       "    </tr>\n",
       "  </thead>\n",
       "  <tbody>\n",
       "    <tr>\n",
       "      <th>0</th>\n",
       "      <td>The Freedom of Fast Iterations: How Netflix De...</td>\n",
       "      <td>1173749188</td>\n",
       "      <td>2007-03-13 01:26:28</td>\n",
       "    </tr>\n",
       "    <tr>\n",
       "      <th>1</th>\n",
       "      <td>Netflix: Take as much vacation as you want.</td>\n",
       "      <td>1174589449</td>\n",
       "      <td>2007-03-22 18:50:49</td>\n",
       "    </tr>\n",
       "    <tr>\n",
       "      <th>2</th>\n",
       "      <td>The Netflix Prize: 300 Days Later</td>\n",
       "      <td>1185939120</td>\n",
       "      <td>2007-08-01 03:32:00</td>\n",
       "    </tr>\n",
       "    <tr>\n",
       "      <th>3</th>\n",
       "      <td>Netflix customer service -- bucking the trend</td>\n",
       "      <td>1187278536</td>\n",
       "      <td>2007-08-16 15:35:36</td>\n",
       "    </tr>\n",
       "    <tr>\n",
       "      <th>4</th>\n",
       "      <td>Netflix Hiring Practices and Benefits</td>\n",
       "      <td>1190125523</td>\n",
       "      <td>2007-09-18 14:25:23</td>\n",
       "    </tr>\n",
       "  </tbody>\n",
       "</table>\n",
       "</div>"
      ],
      "text/plain": [
       "                                               title   unix_time  \\\n",
       "0  The Freedom of Fast Iterations: How Netflix De...  1173749188   \n",
       "1        Netflix: Take as much vacation as you want.  1174589449   \n",
       "2                  The Netflix Prize: 300 Days Later  1185939120   \n",
       "3      Netflix customer service -- bucking the trend  1187278536   \n",
       "4              Netflix Hiring Practices and Benefits  1190125523   \n",
       "\n",
       "            date_time  \n",
       "0 2007-03-13 01:26:28  \n",
       "1 2007-03-22 18:50:49  \n",
       "2 2007-08-01 03:32:00  \n",
       "3 2007-08-16 15:35:36  \n",
       "4 2007-09-18 14:25:23  "
      ]
     },
     "execution_count": 42,
     "metadata": {},
     "output_type": "execute_result"
    }
   ],
   "source": [
    "df = df.sort_values(by=['unix_time'])\n",
    "df = df.reset_index(drop=True)\n",
    "df.head()"
   ]
  },
  {
   "cell_type": "code",
   "execution_count": 43,
   "metadata": {},
   "outputs": [
    {
     "data": {
      "text/html": [
       "<div>\n",
       "<style scoped>\n",
       "    .dataframe tbody tr th:only-of-type {\n",
       "        vertical-align: middle;\n",
       "    }\n",
       "\n",
       "    .dataframe tbody tr th {\n",
       "        vertical-align: top;\n",
       "    }\n",
       "\n",
       "    .dataframe thead th {\n",
       "        text-align: right;\n",
       "    }\n",
       "</style>\n",
       "<table border=\"1\" class=\"dataframe\">\n",
       "  <thead>\n",
       "    <tr style=\"text-align: right;\">\n",
       "      <th></th>\n",
       "      <th>title</th>\n",
       "      <th>unix_time</th>\n",
       "      <th>date_time</th>\n",
       "    </tr>\n",
       "  </thead>\n",
       "  <tbody>\n",
       "    <tr>\n",
       "      <th>0</th>\n",
       "      <td>The Freedom of Fast Iterations: How Netflix De...</td>\n",
       "      <td>1173749188</td>\n",
       "      <td>2007-03-13 01:26:28</td>\n",
       "    </tr>\n",
       "    <tr>\n",
       "      <th>1</th>\n",
       "      <td>Netflix: Take as much vacation as you want.</td>\n",
       "      <td>1174589449</td>\n",
       "      <td>2007-03-22 18:50:49</td>\n",
       "    </tr>\n",
       "    <tr>\n",
       "      <th>2</th>\n",
       "      <td>The Netflix Prize: 300 Days Later</td>\n",
       "      <td>1185939120</td>\n",
       "      <td>2007-08-01 03:32:00</td>\n",
       "    </tr>\n",
       "    <tr>\n",
       "      <th>3</th>\n",
       "      <td>Netflix customer service -- bucking the trend</td>\n",
       "      <td>1187278536</td>\n",
       "      <td>2007-08-16 15:35:36</td>\n",
       "    </tr>\n",
       "    <tr>\n",
       "      <th>4</th>\n",
       "      <td>Netflix Hiring Practices and Benefits</td>\n",
       "      <td>1190125523</td>\n",
       "      <td>2007-09-18 14:25:23</td>\n",
       "    </tr>\n",
       "    <tr>\n",
       "      <th>...</th>\n",
       "      <td>...</td>\n",
       "      <td>...</td>\n",
       "      <td>...</td>\n",
       "    </tr>\n",
       "    <tr>\n",
       "      <th>995</th>\n",
       "      <td>Netflix Android and iOS Studio Apps now powere...</td>\n",
       "      <td>1604224339</td>\n",
       "      <td>2020-11-01 09:52:19</td>\n",
       "    </tr>\n",
       "    <tr>\n",
       "      <th>996</th>\n",
       "      <td>Keeping Netflix Reliable Using Prioritized Loa...</td>\n",
       "      <td>1604331793</td>\n",
       "      <td>2020-11-02 15:43:13</td>\n",
       "    </tr>\n",
       "    <tr>\n",
       "      <th>997</th>\n",
       "      <td>Netflix Targets Critical ‘Cuties’ Tweets with ...</td>\n",
       "      <td>1604578900</td>\n",
       "      <td>2020-11-05 12:21:40</td>\n",
       "    </tr>\n",
       "    <tr>\n",
       "      <th>998</th>\n",
       "      <td>Netflix Scales Its API with GraphQL Federation...</td>\n",
       "      <td>1604942247</td>\n",
       "      <td>2020-11-09 17:17:27</td>\n",
       "    </tr>\n",
       "    <tr>\n",
       "      <th>999</th>\n",
       "      <td>The End of Credits: Why Doesn’t Netflix Want U...</td>\n",
       "      <td>1606253188</td>\n",
       "      <td>2020-11-24 21:26:28</td>\n",
       "    </tr>\n",
       "  </tbody>\n",
       "</table>\n",
       "<p>1000 rows × 3 columns</p>\n",
       "</div>"
      ],
      "text/plain": [
       "                                                 title   unix_time  \\\n",
       "0    The Freedom of Fast Iterations: How Netflix De...  1173749188   \n",
       "1          Netflix: Take as much vacation as you want.  1174589449   \n",
       "2                    The Netflix Prize: 300 Days Later  1185939120   \n",
       "3        Netflix customer service -- bucking the trend  1187278536   \n",
       "4                Netflix Hiring Practices and Benefits  1190125523   \n",
       "..                                                 ...         ...   \n",
       "995  Netflix Android and iOS Studio Apps now powere...  1604224339   \n",
       "996  Keeping Netflix Reliable Using Prioritized Loa...  1604331793   \n",
       "997  Netflix Targets Critical ‘Cuties’ Tweets with ...  1604578900   \n",
       "998  Netflix Scales Its API with GraphQL Federation...  1604942247   \n",
       "999  The End of Credits: Why Doesn’t Netflix Want U...  1606253188   \n",
       "\n",
       "              date_time  \n",
       "0   2007-03-13 01:26:28  \n",
       "1   2007-03-22 18:50:49  \n",
       "2   2007-08-01 03:32:00  \n",
       "3   2007-08-16 15:35:36  \n",
       "4   2007-09-18 14:25:23  \n",
       "..                  ...  \n",
       "995 2020-11-01 09:52:19  \n",
       "996 2020-11-02 15:43:13  \n",
       "997 2020-11-05 12:21:40  \n",
       "998 2020-11-09 17:17:27  \n",
       "999 2020-11-24 21:26:28  \n",
       "\n",
       "[1000 rows x 3 columns]"
      ]
     },
     "execution_count": 43,
     "metadata": {},
     "output_type": "execute_result"
    }
   ],
   "source": [
    "df"
   ]
  },
  {
   "cell_type": "markdown",
   "metadata": {},
   "source": [
    "Group data by months"
   ]
  },
  {
   "cell_type": "code",
   "execution_count": 44,
   "metadata": {},
   "outputs": [
    {
     "data": {
      "text/html": [
       "<div>\n",
       "<style scoped>\n",
       "    .dataframe tbody tr th:only-of-type {\n",
       "        vertical-align: middle;\n",
       "    }\n",
       "\n",
       "    .dataframe tbody tr th {\n",
       "        vertical-align: top;\n",
       "    }\n",
       "\n",
       "    .dataframe thead th {\n",
       "        text-align: right;\n",
       "    }\n",
       "</style>\n",
       "<table border=\"1\" class=\"dataframe\">\n",
       "  <thead>\n",
       "    <tr style=\"text-align: right;\">\n",
       "      <th></th>\n",
       "      <th></th>\n",
       "      <th>title</th>\n",
       "      <th>unix_time</th>\n",
       "      <th>date_time</th>\n",
       "    </tr>\n",
       "    <tr>\n",
       "      <th>year</th>\n",
       "      <th>month</th>\n",
       "      <th></th>\n",
       "      <th></th>\n",
       "      <th></th>\n",
       "    </tr>\n",
       "  </thead>\n",
       "  <tbody>\n",
       "    <tr>\n",
       "      <th rowspan=\"5\" valign=\"top\">2007</th>\n",
       "      <th>3</th>\n",
       "      <td>2</td>\n",
       "      <td>2</td>\n",
       "      <td>2</td>\n",
       "    </tr>\n",
       "    <tr>\n",
       "      <th>8</th>\n",
       "      <td>2</td>\n",
       "      <td>2</td>\n",
       "      <td>2</td>\n",
       "    </tr>\n",
       "    <tr>\n",
       "      <th>9</th>\n",
       "      <td>1</td>\n",
       "      <td>1</td>\n",
       "      <td>1</td>\n",
       "    </tr>\n",
       "    <tr>\n",
       "      <th>10</th>\n",
       "      <td>1</td>\n",
       "      <td>1</td>\n",
       "      <td>1</td>\n",
       "    </tr>\n",
       "    <tr>\n",
       "      <th>11</th>\n",
       "      <td>1</td>\n",
       "      <td>1</td>\n",
       "      <td>1</td>\n",
       "    </tr>\n",
       "  </tbody>\n",
       "</table>\n",
       "</div>"
      ],
      "text/plain": [
       "            title  unix_time  date_time\n",
       "year month                             \n",
       "2007 3          2          2          2\n",
       "     8          2          2          2\n",
       "     9          1          1          1\n",
       "     10         1          1          1\n",
       "     11         1          1          1"
      ]
     },
     "execution_count": 44,
     "metadata": {},
     "output_type": "execute_result"
    }
   ],
   "source": [
    "grouped_data = df.groupby([df['date_time'].dt.year.rename('year'), \n",
    "                           df['date_time'].dt.month.rename('month')]).count()\n",
    "\n",
    "# grouped_data.info()\n",
    "grouped_data.head()"
   ]
  },
  {
   "cell_type": "markdown",
   "metadata": {},
   "source": [
    "Clean grouped dates from index to usable Pandas data column"
   ]
  },
  {
   "cell_type": "code",
   "execution_count": 45,
   "metadata": {},
   "outputs": [
    {
     "data": {
      "text/html": [
       "<div>\n",
       "<style scoped>\n",
       "    .dataframe tbody tr th:only-of-type {\n",
       "        vertical-align: middle;\n",
       "    }\n",
       "\n",
       "    .dataframe tbody tr th {\n",
       "        vertical-align: top;\n",
       "    }\n",
       "\n",
       "    .dataframe thead th {\n",
       "        text-align: right;\n",
       "    }\n",
       "</style>\n",
       "<table border=\"1\" class=\"dataframe\">\n",
       "  <thead>\n",
       "    <tr style=\"text-align: right;\">\n",
       "      <th></th>\n",
       "      <th>year</th>\n",
       "      <th>month</th>\n",
       "      <th>title</th>\n",
       "      <th>unix_time</th>\n",
       "      <th>date_time</th>\n",
       "    </tr>\n",
       "  </thead>\n",
       "  <tbody>\n",
       "    <tr>\n",
       "      <th>0</th>\n",
       "      <td>2007</td>\n",
       "      <td>3</td>\n",
       "      <td>2</td>\n",
       "      <td>2</td>\n",
       "      <td>2</td>\n",
       "    </tr>\n",
       "    <tr>\n",
       "      <th>1</th>\n",
       "      <td>2007</td>\n",
       "      <td>8</td>\n",
       "      <td>2</td>\n",
       "      <td>2</td>\n",
       "      <td>2</td>\n",
       "    </tr>\n",
       "    <tr>\n",
       "      <th>2</th>\n",
       "      <td>2007</td>\n",
       "      <td>9</td>\n",
       "      <td>1</td>\n",
       "      <td>1</td>\n",
       "      <td>1</td>\n",
       "    </tr>\n",
       "    <tr>\n",
       "      <th>3</th>\n",
       "      <td>2007</td>\n",
       "      <td>10</td>\n",
       "      <td>1</td>\n",
       "      <td>1</td>\n",
       "      <td>1</td>\n",
       "    </tr>\n",
       "    <tr>\n",
       "      <th>4</th>\n",
       "      <td>2007</td>\n",
       "      <td>11</td>\n",
       "      <td>1</td>\n",
       "      <td>1</td>\n",
       "      <td>1</td>\n",
       "    </tr>\n",
       "  </tbody>\n",
       "</table>\n",
       "</div>"
      ],
      "text/plain": [
       "   year  month  title  unix_time  date_time\n",
       "0  2007      3      2          2          2\n",
       "1  2007      8      2          2          2\n",
       "2  2007      9      1          1          1\n",
       "3  2007     10      1          1          1\n",
       "4  2007     11      1          1          1"
      ]
     },
     "execution_count": 45,
     "metadata": {},
     "output_type": "execute_result"
    }
   ],
   "source": [
    "grouped_data.reset_index(inplace=True)\n",
    "grouped_data.head()\n",
    "# grouped_data.info()"
   ]
  },
  {
   "cell_type": "code",
   "execution_count": 46,
   "metadata": {},
   "outputs": [
    {
     "data": {
      "text/html": [
       "<div>\n",
       "<style scoped>\n",
       "    .dataframe tbody tr th:only-of-type {\n",
       "        vertical-align: middle;\n",
       "    }\n",
       "\n",
       "    .dataframe tbody tr th {\n",
       "        vertical-align: top;\n",
       "    }\n",
       "\n",
       "    .dataframe thead th {\n",
       "        text-align: right;\n",
       "    }\n",
       "</style>\n",
       "<table border=\"1\" class=\"dataframe\">\n",
       "  <thead>\n",
       "    <tr style=\"text-align: right;\">\n",
       "      <th></th>\n",
       "      <th>year</th>\n",
       "      <th>month</th>\n",
       "      <th>title</th>\n",
       "      <th>unix_time</th>\n",
       "      <th>date_time</th>\n",
       "      <th>date_clean</th>\n",
       "    </tr>\n",
       "  </thead>\n",
       "  <tbody>\n",
       "    <tr>\n",
       "      <th>0</th>\n",
       "      <td>2007</td>\n",
       "      <td>3</td>\n",
       "      <td>2</td>\n",
       "      <td>2</td>\n",
       "      <td>2</td>\n",
       "      <td>2007-03-01</td>\n",
       "    </tr>\n",
       "    <tr>\n",
       "      <th>1</th>\n",
       "      <td>2007</td>\n",
       "      <td>8</td>\n",
       "      <td>2</td>\n",
       "      <td>2</td>\n",
       "      <td>2</td>\n",
       "      <td>2007-08-01</td>\n",
       "    </tr>\n",
       "    <tr>\n",
       "      <th>2</th>\n",
       "      <td>2007</td>\n",
       "      <td>9</td>\n",
       "      <td>1</td>\n",
       "      <td>1</td>\n",
       "      <td>1</td>\n",
       "      <td>2007-09-01</td>\n",
       "    </tr>\n",
       "    <tr>\n",
       "      <th>3</th>\n",
       "      <td>2007</td>\n",
       "      <td>10</td>\n",
       "      <td>1</td>\n",
       "      <td>1</td>\n",
       "      <td>1</td>\n",
       "      <td>2007-10-01</td>\n",
       "    </tr>\n",
       "    <tr>\n",
       "      <th>4</th>\n",
       "      <td>2007</td>\n",
       "      <td>11</td>\n",
       "      <td>1</td>\n",
       "      <td>1</td>\n",
       "      <td>1</td>\n",
       "      <td>2007-11-01</td>\n",
       "    </tr>\n",
       "  </tbody>\n",
       "</table>\n",
       "</div>"
      ],
      "text/plain": [
       "   year  month  title  unix_time  date_time date_clean\n",
       "0  2007      3      2          2          2 2007-03-01\n",
       "1  2007      8      2          2          2 2007-08-01\n",
       "2  2007      9      1          1          1 2007-09-01\n",
       "3  2007     10      1          1          1 2007-10-01\n",
       "4  2007     11      1          1          1 2007-11-01"
      ]
     },
     "execution_count": 46,
     "metadata": {},
     "output_type": "execute_result"
    }
   ],
   "source": [
    "grouped_data['date_clean'] = pd.to_datetime(grouped_data[['year','month']].assign(DAY=1))\n",
    "grouped_data.head()"
   ]
  },
  {
   "cell_type": "markdown",
   "metadata": {},
   "source": [
    "Create matplotlib time units"
   ]
  },
  {
   "cell_type": "code",
   "execution_count": 47,
   "metadata": {},
   "outputs": [
    {
     "data": {
      "text/html": [
       "<div>\n",
       "<style scoped>\n",
       "    .dataframe tbody tr th:only-of-type {\n",
       "        vertical-align: middle;\n",
       "    }\n",
       "\n",
       "    .dataframe tbody tr th {\n",
       "        vertical-align: top;\n",
       "    }\n",
       "\n",
       "    .dataframe thead th {\n",
       "        text-align: right;\n",
       "    }\n",
       "</style>\n",
       "<table border=\"1\" class=\"dataframe\">\n",
       "  <thead>\n",
       "    <tr style=\"text-align: right;\">\n",
       "      <th></th>\n",
       "      <th>year</th>\n",
       "      <th>month</th>\n",
       "      <th>title</th>\n",
       "      <th>unix_time</th>\n",
       "      <th>date_time</th>\n",
       "      <th>date_clean</th>\n",
       "      <th>pl_date</th>\n",
       "    </tr>\n",
       "  </thead>\n",
       "  <tbody>\n",
       "    <tr>\n",
       "      <th>0</th>\n",
       "      <td>2007</td>\n",
       "      <td>3</td>\n",
       "      <td>2</td>\n",
       "      <td>2</td>\n",
       "      <td>2</td>\n",
       "      <td>2007-03-01</td>\n",
       "      <td>13573.0</td>\n",
       "    </tr>\n",
       "    <tr>\n",
       "      <th>1</th>\n",
       "      <td>2007</td>\n",
       "      <td>8</td>\n",
       "      <td>2</td>\n",
       "      <td>2</td>\n",
       "      <td>2</td>\n",
       "      <td>2007-08-01</td>\n",
       "      <td>13726.0</td>\n",
       "    </tr>\n",
       "    <tr>\n",
       "      <th>2</th>\n",
       "      <td>2007</td>\n",
       "      <td>9</td>\n",
       "      <td>1</td>\n",
       "      <td>1</td>\n",
       "      <td>1</td>\n",
       "      <td>2007-09-01</td>\n",
       "      <td>13757.0</td>\n",
       "    </tr>\n",
       "    <tr>\n",
       "      <th>3</th>\n",
       "      <td>2007</td>\n",
       "      <td>10</td>\n",
       "      <td>1</td>\n",
       "      <td>1</td>\n",
       "      <td>1</td>\n",
       "      <td>2007-10-01</td>\n",
       "      <td>13787.0</td>\n",
       "    </tr>\n",
       "    <tr>\n",
       "      <th>4</th>\n",
       "      <td>2007</td>\n",
       "      <td>11</td>\n",
       "      <td>1</td>\n",
       "      <td>1</td>\n",
       "      <td>1</td>\n",
       "      <td>2007-11-01</td>\n",
       "      <td>13818.0</td>\n",
       "    </tr>\n",
       "  </tbody>\n",
       "</table>\n",
       "</div>"
      ],
      "text/plain": [
       "   year  month  title  unix_time  date_time date_clean  pl_date\n",
       "0  2007      3      2          2          2 2007-03-01  13573.0\n",
       "1  2007      8      2          2          2 2007-08-01  13726.0\n",
       "2  2007      9      1          1          1 2007-09-01  13757.0\n",
       "3  2007     10      1          1          1 2007-10-01  13787.0\n",
       "4  2007     11      1          1          1 2007-11-01  13818.0"
      ]
     },
     "execution_count": 47,
     "metadata": {},
     "output_type": "execute_result"
    }
   ],
   "source": [
    "grouped_data['pl_date'] = md.date2num(grouped_data['date_clean'])\n",
    "grouped_data.head()"
   ]
  },
  {
   "cell_type": "markdown",
   "metadata": {},
   "source": [
    "### Visualizing Trends"
   ]
  },
  {
   "cell_type": "markdown",
   "metadata": {},
   "source": [
    "<div class=\"alert alert-block alert-warning\">\n",
    "<b>4th lesson learned:</b> Another large amount of time spent here trying to make the graph not look like crap.\n",
    "    \n",
    "Getting the timeline (x-axis) look acceptable took a while.\n",
    "</div>"
   ]
  },
  {
   "cell_type": "markdown",
   "metadata": {},
   "source": [
    "Graph prep"
   ]
  },
  {
   "cell_type": "code",
   "execution_count": 48,
   "metadata": {},
   "outputs": [],
   "source": [
    "x = grouped_data['pl_date'] # x-axis is the timeline\n",
    "y = grouped_data['title']"
   ]
  },
  {
   "cell_type": "markdown",
   "metadata": {},
   "source": [
    "Graph"
   ]
  },
  {
   "cell_type": "code",
   "execution_count": 49,
   "metadata": {
    "scrolled": false
   },
   "outputs": [
    {
     "data": {
      "image/png": "[encoded data removed]",
      "text/plain": [
       "<Figure size 1080x720 with 1 Axes>"
      ]
     },
     "metadata": {
      "image/png": {
       "height": 579,
       "width": 895
      },
      "needs_background": "light"
     },
     "output_type": "display_data"
    }
   ],
   "source": [
    "fig = plt.figure(figsize=[15,10])\n",
    "ax = fig.add_subplot(1,1,1)\n",
    "\n",
    "ax.plot(x,y, label='Stories', marker='o', color='orange')\n",
    "\n",
    "# x-axis timeline formatting\n",
    "# fig.autofmt_xdate()\n",
    "# plt.xticks(rotation=45)\n",
    "\n",
    "# xfmt = md.DateFormatter('%d-%b-%Y')\n",
    "# ax.xaxis.set_major_formatter(xfmt)\n",
    "\n",
    "plt.gca().xaxis.set_major_locator(md.MonthLocator(interval=4)) \n",
    "plt.gca().xaxis.set_major_formatter(md.DateFormatter(\"%d-%b-%Y\"))\n",
    "plt.gcf().autofmt_xdate()\n",
    "\n",
    "\n",
    "# Labels\n",
    "ax.set_title(f\"Trend of '{keyword}' on Hacker News\")\n",
    "ax.set_xlabel('Timeline')\n",
    "ax.set_ylabel('Number of stories')\n",
    "\n",
    "ax.legend(loc='best')\n",
    "\n",
    "# Labeling markers\n",
    "for a, b in zip(x,y):\n",
    "    ax.annotate(b, xy=(a,b), xytext=(0,5), textcoords='offset points')"
   ]
  },
  {
   "cell_type": "markdown",
   "metadata": {},
   "source": [
    "<div class=\"alert alert-block alert-success\">\n",
    "<b>Success!</b> \n",
    "    \n",
    "</div>"
   ]
  },
  {
   "cell_type": "markdown",
   "metadata": {},
   "source": [
    "---\n",
    "# References\n",
    "\n",
    "Hacker News API documentation:\n",
    "https://github.com/HackerNews/API\n",
    "\n",
    "Algolia API documentation:\n",
    "https://hn.algolia.com/api\n",
    "\n",
    "**Class notebooks:**\n",
    "- 16 - File I/O\n",
    "- 19 - APIs\n",
    "- graphing-with-matplotlib"
   ]
  }
 ],
 "metadata": {
  "kernelspec": {
   "display_name": "Python 3",
   "language": "python",
   "name": "python3"
  },
  "language_info": {
   "codemirror_mode": {
    "name": "ipython",
    "version": 3
   },
   "file_extension": ".py",
   "mimetype": "text/x-python",
   "name": "python",
   "nbconvert_exporter": "python",
   "pygments_lexer": "ipython3",
   "version": "3.8.0"
  }
 },
 "nbformat": 4,
 "nbformat_minor": 4
}
